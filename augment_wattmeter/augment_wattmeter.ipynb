{
 "cells": [
  {
   "cell_type": "code",
   "execution_count": 1,
   "metadata": {},
   "outputs": [],
   "source": [
    "import Augmentor\n",
    "import os\n",
    "import glob\n",
    "\n",
    "from PIL import Image"
   ]
  },
  {
   "cell_type": "code",
   "execution_count": 2,
   "metadata": {},
   "outputs": [],
   "source": [
    "root_directory = \"images/*\""
   ]
  },
  {
   "cell_type": "code",
   "execution_count": 6,
   "metadata": {},
   "outputs": [
    {
     "name": "stdout",
     "output_type": "stream",
     "text": [
      "Folders (classes) found: ['-1', '20', '18', '9', '11', '7', '16', '6', '17', '1', '10', '19', '8', '21', '-2', '-3', '4', '15', '12', '13', '5', '14', '22'] \n"
     ]
    }
   ],
   "source": [
    "folders = []\n",
    "for f in glob.glob(root_directory):\n",
    "    if os.path.isdir(f):\n",
    "        folders.append(os.path.abspath(f))\n",
    "\n",
    "print(\"Folders (classes) found: %s \" % [os.path.split(x)[1] for x in folders])"
   ]
  },
  {
   "cell_type": "code",
   "execution_count": 7,
   "metadata": {},
   "outputs": [
    {
     "name": "stdout",
     "output_type": "stream",
     "text": [
      "Folder /Users/juanjesusizquierdo/Desktop/ML-DL/AnalogReadDemo/augment_wattmeter/images/-1:\n",
      "Initialised with 1 image(s) found.\n",
      "Output directory set to /Users/juanjesusizquierdo/Desktop/ML-DL/AnalogReadDemo/augment_wattmeter/images/-1/output.\n",
      "----------------------------\n",
      "\n",
      "Folder /Users/juanjesusizquierdo/Desktop/ML-DL/AnalogReadDemo/augment_wattmeter/images/20:\n",
      "Initialised with 1 image(s) found.\n",
      "Output directory set to /Users/juanjesusizquierdo/Desktop/ML-DL/AnalogReadDemo/augment_wattmeter/images/20/output.\n",
      "----------------------------\n",
      "\n",
      "Folder /Users/juanjesusizquierdo/Desktop/ML-DL/AnalogReadDemo/augment_wattmeter/images/18:\n",
      "Initialised with 1 image(s) found.\n",
      "Output directory set to /Users/juanjesusizquierdo/Desktop/ML-DL/AnalogReadDemo/augment_wattmeter/images/18/output.\n",
      "----------------------------\n",
      "\n",
      "Folder /Users/juanjesusizquierdo/Desktop/ML-DL/AnalogReadDemo/augment_wattmeter/images/9:\n",
      "Initialised with 1 image(s) found.\n",
      "Output directory set to /Users/juanjesusizquierdo/Desktop/ML-DL/AnalogReadDemo/augment_wattmeter/images/9/output.\n",
      "----------------------------\n",
      "\n",
      "Folder /Users/juanjesusizquierdo/Desktop/ML-DL/AnalogReadDemo/augment_wattmeter/images/11:\n",
      "Initialised with 1 image(s) found.\n",
      "Output directory set to /Users/juanjesusizquierdo/Desktop/ML-DL/AnalogReadDemo/augment_wattmeter/images/11/output.\n",
      "----------------------------\n",
      "\n",
      "Folder /Users/juanjesusizquierdo/Desktop/ML-DL/AnalogReadDemo/augment_wattmeter/images/7:\n",
      "Initialised with 1 image(s) found.\n",
      "Output directory set to /Users/juanjesusizquierdo/Desktop/ML-DL/AnalogReadDemo/augment_wattmeter/images/7/output.\n",
      "----------------------------\n",
      "\n",
      "Folder /Users/juanjesusizquierdo/Desktop/ML-DL/AnalogReadDemo/augment_wattmeter/images/16:\n",
      "Initialised with 1 image(s) found.\n",
      "Output directory set to /Users/juanjesusizquierdo/Desktop/ML-DL/AnalogReadDemo/augment_wattmeter/images/16/output.\n",
      "----------------------------\n",
      "\n",
      "Folder /Users/juanjesusizquierdo/Desktop/ML-DL/AnalogReadDemo/augment_wattmeter/images/6:\n",
      "Initialised with 1 image(s) found.\n",
      "Output directory set to /Users/juanjesusizquierdo/Desktop/ML-DL/AnalogReadDemo/augment_wattmeter/images/6/output.\n",
      "----------------------------\n",
      "\n",
      "Folder /Users/juanjesusizquierdo/Desktop/ML-DL/AnalogReadDemo/augment_wattmeter/images/17:\n",
      "Initialised with 1 image(s) found.\n",
      "Output directory set to /Users/juanjesusizquierdo/Desktop/ML-DL/AnalogReadDemo/augment_wattmeter/images/17/output.\n",
      "----------------------------\n",
      "\n",
      "Folder /Users/juanjesusizquierdo/Desktop/ML-DL/AnalogReadDemo/augment_wattmeter/images/1:\n",
      "Initialised with 1 image(s) found.\n",
      "Output directory set to /Users/juanjesusizquierdo/Desktop/ML-DL/AnalogReadDemo/augment_wattmeter/images/1/output.\n",
      "----------------------------\n",
      "\n",
      "Folder /Users/juanjesusizquierdo/Desktop/ML-DL/AnalogReadDemo/augment_wattmeter/images/10:\n",
      "Initialised with 1 image(s) found.\n",
      "Output directory set to /Users/juanjesusizquierdo/Desktop/ML-DL/AnalogReadDemo/augment_wattmeter/images/10/output.\n",
      "----------------------------\n",
      "\n",
      "Folder /Users/juanjesusizquierdo/Desktop/ML-DL/AnalogReadDemo/augment_wattmeter/images/19:\n",
      "Initialised with 1 image(s) found.\n",
      "Output directory set to /Users/juanjesusizquierdo/Desktop/ML-DL/AnalogReadDemo/augment_wattmeter/images/19/output.\n",
      "----------------------------\n",
      "\n",
      "Folder /Users/juanjesusizquierdo/Desktop/ML-DL/AnalogReadDemo/augment_wattmeter/images/8:\n",
      "Initialised with 1 image(s) found.\n",
      "Output directory set to /Users/juanjesusizquierdo/Desktop/ML-DL/AnalogReadDemo/augment_wattmeter/images/8/output.\n",
      "----------------------------\n",
      "\n",
      "Folder /Users/juanjesusizquierdo/Desktop/ML-DL/AnalogReadDemo/augment_wattmeter/images/21:\n",
      "Initialised with 1 image(s) found.\n",
      "Output directory set to /Users/juanjesusizquierdo/Desktop/ML-DL/AnalogReadDemo/augment_wattmeter/images/21/output.\n",
      "----------------------------\n",
      "\n",
      "Folder /Users/juanjesusizquierdo/Desktop/ML-DL/AnalogReadDemo/augment_wattmeter/images/-2:\n",
      "Initialised with 1 image(s) found.\n",
      "Output directory set to /Users/juanjesusizquierdo/Desktop/ML-DL/AnalogReadDemo/augment_wattmeter/images/-2/output.\n",
      "----------------------------\n",
      "\n",
      "Folder /Users/juanjesusizquierdo/Desktop/ML-DL/AnalogReadDemo/augment_wattmeter/images/-3:\n",
      "Initialised with 1 image(s) found.\n",
      "Output directory set to /Users/juanjesusizquierdo/Desktop/ML-DL/AnalogReadDemo/augment_wattmeter/images/-3/output.\n",
      "----------------------------\n",
      "\n",
      "Folder /Users/juanjesusizquierdo/Desktop/ML-DL/AnalogReadDemo/augment_wattmeter/images/4:\n",
      "Initialised with 1 image(s) found.\n",
      "Output directory set to /Users/juanjesusizquierdo/Desktop/ML-DL/AnalogReadDemo/augment_wattmeter/images/4/output.\n",
      "----------------------------\n",
      "\n",
      "Folder /Users/juanjesusizquierdo/Desktop/ML-DL/AnalogReadDemo/augment_wattmeter/images/15:\n",
      "Initialised with 1 image(s) found.\n",
      "Output directory set to /Users/juanjesusizquierdo/Desktop/ML-DL/AnalogReadDemo/augment_wattmeter/images/15/output.\n",
      "----------------------------\n",
      "\n",
      "Folder /Users/juanjesusizquierdo/Desktop/ML-DL/AnalogReadDemo/augment_wattmeter/images/12:\n",
      "Initialised with 1 image(s) found.\n",
      "Output directory set to /Users/juanjesusizquierdo/Desktop/ML-DL/AnalogReadDemo/augment_wattmeter/images/12/output.\n",
      "----------------------------\n",
      "\n",
      "Folder /Users/juanjesusizquierdo/Desktop/ML-DL/AnalogReadDemo/augment_wattmeter/images/13:\n",
      "Initialised with 1 image(s) found.\n",
      "Output directory set to /Users/juanjesusizquierdo/Desktop/ML-DL/AnalogReadDemo/augment_wattmeter/images/13/output.\n",
      "----------------------------\n",
      "\n",
      "Folder /Users/juanjesusizquierdo/Desktop/ML-DL/AnalogReadDemo/augment_wattmeter/images/5:\n",
      "Initialised with 1 image(s) found.\n",
      "Output directory set to /Users/juanjesusizquierdo/Desktop/ML-DL/AnalogReadDemo/augment_wattmeter/images/5/output.\n",
      "----------------------------\n",
      "\n",
      "Folder /Users/juanjesusizquierdo/Desktop/ML-DL/AnalogReadDemo/augment_wattmeter/images/14:\n",
      "Initialised with 1 image(s) found.\n",
      "Output directory set to /Users/juanjesusizquierdo/Desktop/ML-DL/AnalogReadDemo/augment_wattmeter/images/14/output.\n",
      "----------------------------\n",
      "\n",
      "Folder /Users/juanjesusizquierdo/Desktop/ML-DL/AnalogReadDemo/augment_wattmeter/images/22:\n",
      "Initialised with 1 image(s) found.\n",
      "Output directory set to /Users/juanjesusizquierdo/Desktop/ML-DL/AnalogReadDemo/augment_wattmeter/images/22/output.\n",
      "----------------------------\n",
      "\n"
     ]
    }
   ],
   "source": [
    "pipelines = {}\n",
    "for folder in folders:\n",
    "    print(\"Folder %s:\" % (folder))\n",
    "    pipelines[os.path.split(folder)[1]] = (Augmentor.Pipeline(folder))\n",
    "    print(\"\\n----------------------------\\n\")"
   ]
  },
  {
   "cell_type": "code",
   "execution_count": 8,
   "metadata": {},
   "outputs": [
    {
     "name": "stdout",
     "output_type": "stream",
     "text": [
      "Class -1 has 1 samples.\n",
      "Class 20 has 1 samples.\n",
      "Class 18 has 1 samples.\n",
      "Class 9 has 1 samples.\n",
      "Class 11 has 1 samples.\n",
      "Class 7 has 1 samples.\n",
      "Class 16 has 1 samples.\n",
      "Class 6 has 1 samples.\n",
      "Class 17 has 1 samples.\n",
      "Class 1 has 1 samples.\n",
      "Class 10 has 1 samples.\n",
      "Class 19 has 1 samples.\n",
      "Class 8 has 1 samples.\n",
      "Class 21 has 1 samples.\n",
      "Class -2 has 1 samples.\n",
      "Class -3 has 1 samples.\n",
      "Class 4 has 1 samples.\n",
      "Class 15 has 1 samples.\n",
      "Class 12 has 1 samples.\n",
      "Class 13 has 1 samples.\n",
      "Class 5 has 1 samples.\n",
      "Class 14 has 1 samples.\n",
      "Class 22 has 1 samples.\n"
     ]
    }
   ],
   "source": [
    "for p in pipelines.values():\n",
    "    print(\"Class %s has %s samples.\" % (p.augmentor_images[0].class_label, len(p.augmentor_images)))"
   ]
  },
  {
   "cell_type": "code",
   "execution_count": 9,
   "metadata": {},
   "outputs": [],
   "source": [
    "for pipeline in pipelines.values():\n",
    "    pipeline.zoom(probability=0.33, min_factor=1.0, max_factor=1.1)\n",
    "    pipeline.rotate(probability=0.33, max_left_rotation=5, max_right_rotation=5)\n",
    "    pipeline.skew_corner(probability=0.33, magnitude=0.1)"
   ]
  },
  {
   "cell_type": "code",
   "execution_count": 10,
   "metadata": {},
   "outputs": [
    {
     "name": "stderr",
     "output_type": "stream",
     "text": [
      "Processing <PIL.JpegImagePlugin.JpegImageFile image mode=RGB size=726x408 at 0x11BC2A690>: 100%|██████████| 1000/1000 [00:08<00:00, 120.48 Samples/s]\n",
      "Processing <PIL.Image.Image image mode=RGB size=726x408 at 0x11BBD9890>: 100%|██████████| 1000/1000 [00:08<00:00, 118.46 Samples/s]                 \n",
      "Processing <PIL.Image.Image image mode=RGB size=726x408 at 0x11BC86490>: 100%|██████████| 1000/1000 [00:08<00:00, 122.64 Samples/s]                 \n",
      "Processing <PIL.JpegImagePlugin.JpegImageFile image mode=RGB size=726x408 at 0x11BC3FD10>: 100%|██████████| 1000/1000 [00:08<00:00, 112.71 Samples/s]\n",
      "Processing <PIL.Image.Image image mode=RGB size=726x408 at 0x11BC71890>: 100%|██████████| 1000/1000 [00:09<00:00, 106.01 Samples/s]                 \n",
      "Processing <PIL.Image.Image image mode=RGB size=726x408 at 0x11BBA3E10>: 100%|██████████| 1000/1000 [00:09<00:00, 109.09 Samples/s]                 \n",
      "Processing <PIL.Image.Image image mode=RGB size=726x408 at 0x11F186850>: 100%|██████████| 1000/1000 [00:09<00:00, 102.95 Samples/s]                 \n",
      "Processing <PIL.JpegImagePlugin.JpegImageFile image mode=RGB size=726x408 at 0x107F98D10>: 100%|██████████| 1000/1000 [00:10<00:00, 99.98 Samples/s]\n",
      "Processing <PIL.Image.Image image mode=RGB size=726x408 at 0x11BCA3590>: 100%|██████████| 1000/1000 [00:09<00:00, 107.20 Samples/s]                 \n",
      "Processing <PIL.JpegImagePlugin.JpegImageFile image mode=RGB size=726x408 at 0x11BBBEFD0>: 100%|██████████| 1000/1000 [00:09<00:00, 109.77 Samples/s]\n",
      "Processing <PIL.Image.Image image mode=RGB size=726x408 at 0x11BBDD610>: 100%|██████████| 1000/1000 [00:09<00:00, 105.44 Samples/s]                 \n",
      "Processing <PIL.Image.Image image mode=RGB size=726x408 at 0x107F95210>: 100%|██████████| 1000/1000 [00:09<00:00, 106.11 Samples/s]                 \n",
      "Processing <PIL.Image.Image image mode=RGB size=726x408 at 0x11BCA4690>: 100%|██████████| 1000/1000 [00:08<00:00, 112.41 Samples/s]                 \n",
      "Processing <PIL.JpegImagePlugin.JpegImageFile image mode=RGB size=726x408 at 0x107FC04D0>: 100%|██████████| 1000/1000 [00:09<00:00, 107.99 Samples/s]\n",
      "Processing <PIL.Image.Image image mode=RGB size=726x408 at 0x119E25910>: 100%|██████████| 1000/1000 [00:10<00:00, 99.85 Samples/s]                  \n",
      "Processing <PIL.Image.Image image mode=RGB size=726x408 at 0x11BCB9190>: 100%|██████████| 1000/1000 [00:09<00:00, 104.30 Samples/s]                 \n",
      "Processing <PIL.Image.Image image mode=RGB size=726x408 at 0x11BC403D0>: 100%|██████████| 1000/1000 [00:08<00:00, 111.65 Samples/s]                 \n",
      "Processing <PIL.Image.Image image mode=RGB size=726x408 at 0x11F165190>: 100%|██████████| 1000/1000 [00:08<00:00, 113.02 Samples/s]                 \n",
      "Processing <PIL.JpegImagePlugin.JpegImageFile image mode=RGB size=726x408 at 0x11F1A0510>: 100%|██████████| 1000/1000 [00:08<00:00, 112.71 Samples/s]\n",
      "Processing <PIL.Image.Image image mode=RGB size=726x408 at 0x11BC03B90>: 100%|██████████| 1000/1000 [00:09<00:00, 109.69 Samples/s]                 \n",
      "Processing <PIL.JpegImagePlugin.JpegImageFile image mode=RGB size=726x408 at 0x11F169390>: 100%|██████████| 1000/1000 [00:08<00:00, 112.51 Samples/s]\n",
      "Processing <PIL.Image.Image image mode=RGB size=726x408 at 0x115964490>: 100%|██████████| 1000/1000 [00:08<00:00, 116.44 Samples/s]                 \n",
      "Processing <PIL.Image.Image image mode=RGB size=726x408 at 0x119E35390>: 100%|██████████| 1000/1000 [00:08<00:00, 112.36 Samples/s]                 \n"
     ]
    }
   ],
   "source": [
    "for pipeline in pipelines.values():\n",
    "    pipeline.sample(1000)"
   ]
  }
 ],
 "metadata": {
  "kernelspec": {
   "display_name": "Python 3",
   "language": "python",
   "name": "python3"
  },
  "language_info": {
   "codemirror_mode": {
    "name": "ipython",
    "version": 3
   },
   "file_extension": ".py",
   "mimetype": "text/x-python",
   "name": "python",
   "nbconvert_exporter": "python",
   "pygments_lexer": "ipython3",
   "version": "3.7.7"
  }
 },
 "nbformat": 4,
 "nbformat_minor": 4
}
